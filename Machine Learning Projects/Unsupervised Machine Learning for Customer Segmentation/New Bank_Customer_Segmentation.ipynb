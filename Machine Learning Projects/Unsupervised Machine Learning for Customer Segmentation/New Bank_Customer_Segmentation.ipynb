{
  "cells": [
    {
      "cell_type": "markdown",
      "metadata": {
        "id": "M27qF7CTrBqc"
      },
      "source": [
        "# TASK #1: UNDERSTAND THE PROBLEM STATEMENT AND BUSINESS CASE"
      ]
    },
    {
      "cell_type": "markdown",
      "metadata": {
        "id": "hepM4VWokzLy"
      },
      "source": [
        "![image.png](attachment:image.png)"
      ]
    },
    {
      "cell_type": "markdown",
      "metadata": {
        "id": "IDYhc8kPkzLy"
      },
      "source": [
        "![image.png](attachment:image.png)"
      ]
    },
    {
      "cell_type": "markdown",
      "metadata": {
        "id": "HPR35NI3kzLz"
      },
      "source": [
        "![image.png](attachment:image.png)"
      ]
    },
    {
      "cell_type": "markdown",
      "metadata": {
        "id": "Aiy0Xb2BHy9c"
      },
      "source": [
        "Data Source: https://www.kaggle.com/arjunbhasin2013/ccdata"
      ]
    },
    {
      "cell_type": "markdown",
      "metadata": {
        "id": "zKmFmyaGunc7"
      },
      "source": [
        "# TASK #2: IMPORT LIBRARIES AND DATASETS"
      ]
    },
    {
      "cell_type": "code",
      "source": [
        "!pip install jupyterthemes"
      ],
      "metadata": {
        "id": "N3_dTq6nlem9",
        "outputId": "fe364144-a145-4fab-ba0b-ecc9c91dae36",
        "colab": {
          "base_uri": "https://localhost:8080/"
        }
      },
      "execution_count": 2,
      "outputs": [
        {
          "output_type": "stream",
          "name": "stdout",
          "text": [
            "Collecting jupyterthemes\n",
            "  Downloading jupyterthemes-0.20.0-py2.py3-none-any.whl (7.0 MB)\n",
            "\u001b[2K     \u001b[90m━━━━━━━━━━━━━━━━━━━━━━━━━━━━━━━━━━━━━━━━\u001b[0m \u001b[32m7.0/7.0 MB\u001b[0m \u001b[31m17.7 MB/s\u001b[0m eta \u001b[36m0:00:00\u001b[0m\n",
            "\u001b[?25hRequirement already satisfied: jupyter-core in /usr/local/lib/python3.10/dist-packages (from jupyterthemes) (5.7.2)\n",
            "Requirement already satisfied: notebook>=5.6.0 in /usr/local/lib/python3.10/dist-packages (from jupyterthemes) (6.5.5)\n",
            "Requirement already satisfied: ipython>=5.4.1 in /usr/local/lib/python3.10/dist-packages (from jupyterthemes) (7.34.0)\n",
            "Requirement already satisfied: matplotlib>=1.4.3 in /usr/local/lib/python3.10/dist-packages (from jupyterthemes) (3.7.1)\n",
            "Collecting lesscpy>=0.11.2 (from jupyterthemes)\n",
            "  Downloading lesscpy-0.15.1-py2.py3-none-any.whl (46 kB)\n",
            "\u001b[2K     \u001b[90m━━━━━━━━━━━━━━━━━━━━━━━━━━━━━━━━━━━━━━━━\u001b[0m \u001b[32m46.7/46.7 kB\u001b[0m \u001b[31m5.2 MB/s\u001b[0m eta \u001b[36m0:00:00\u001b[0m\n",
            "\u001b[?25hRequirement already satisfied: setuptools>=18.5 in /usr/local/lib/python3.10/dist-packages (from ipython>=5.4.1->jupyterthemes) (67.7.2)\n",
            "Collecting jedi>=0.16 (from ipython>=5.4.1->jupyterthemes)\n",
            "  Downloading jedi-0.19.1-py2.py3-none-any.whl (1.6 MB)\n",
            "\u001b[2K     \u001b[90m━━━━━━━━━━━━━━━━━━━━━━━━━━━━━━━━━━━━━━━━\u001b[0m \u001b[32m1.6/1.6 MB\u001b[0m \u001b[31m30.0 MB/s\u001b[0m eta \u001b[36m0:00:00\u001b[0m\n",
            "\u001b[?25hRequirement already satisfied: decorator in /usr/local/lib/python3.10/dist-packages (from ipython>=5.4.1->jupyterthemes) (4.4.2)\n",
            "Requirement already satisfied: pickleshare in /usr/local/lib/python3.10/dist-packages (from ipython>=5.4.1->jupyterthemes) (0.7.5)\n",
            "Requirement already satisfied: traitlets>=4.2 in /usr/local/lib/python3.10/dist-packages (from ipython>=5.4.1->jupyterthemes) (5.7.1)\n",
            "Requirement already satisfied: prompt-toolkit!=3.0.0,!=3.0.1,<3.1.0,>=2.0.0 in /usr/local/lib/python3.10/dist-packages (from ipython>=5.4.1->jupyterthemes) (3.0.45)\n",
            "Requirement already satisfied: pygments in /usr/local/lib/python3.10/dist-packages (from ipython>=5.4.1->jupyterthemes) (2.16.1)\n",
            "Requirement already satisfied: backcall in /usr/local/lib/python3.10/dist-packages (from ipython>=5.4.1->jupyterthemes) (0.2.0)\n",
            "Requirement already satisfied: matplotlib-inline in /usr/local/lib/python3.10/dist-packages (from ipython>=5.4.1->jupyterthemes) (0.1.7)\n",
            "Requirement already satisfied: pexpect>4.3 in /usr/local/lib/python3.10/dist-packages (from ipython>=5.4.1->jupyterthemes) (4.9.0)\n",
            "Collecting ply (from lesscpy>=0.11.2->jupyterthemes)\n",
            "  Downloading ply-3.11-py2.py3-none-any.whl (49 kB)\n",
            "\u001b[2K     \u001b[90m━━━━━━━━━━━━━━━━━━━━━━━━━━━━━━━━━━━━━━━━\u001b[0m \u001b[32m49.6/49.6 kB\u001b[0m \u001b[31m4.4 MB/s\u001b[0m eta \u001b[36m0:00:00\u001b[0m\n",
            "\u001b[?25hRequirement already satisfied: contourpy>=1.0.1 in /usr/local/lib/python3.10/dist-packages (from matplotlib>=1.4.3->jupyterthemes) (1.2.1)\n",
            "Requirement already satisfied: cycler>=0.10 in /usr/local/lib/python3.10/dist-packages (from matplotlib>=1.4.3->jupyterthemes) (0.12.1)\n",
            "Requirement already satisfied: fonttools>=4.22.0 in /usr/local/lib/python3.10/dist-packages (from matplotlib>=1.4.3->jupyterthemes) (4.53.0)\n",
            "Requirement already satisfied: kiwisolver>=1.0.1 in /usr/local/lib/python3.10/dist-packages (from matplotlib>=1.4.3->jupyterthemes) (1.4.5)\n",
            "Requirement already satisfied: numpy>=1.20 in /usr/local/lib/python3.10/dist-packages (from matplotlib>=1.4.3->jupyterthemes) (1.25.2)\n",
            "Requirement already satisfied: packaging>=20.0 in /usr/local/lib/python3.10/dist-packages (from matplotlib>=1.4.3->jupyterthemes) (24.0)\n",
            "Requirement already satisfied: pillow>=6.2.0 in /usr/local/lib/python3.10/dist-packages (from matplotlib>=1.4.3->jupyterthemes) (9.4.0)\n",
            "Requirement already satisfied: pyparsing>=2.3.1 in /usr/local/lib/python3.10/dist-packages (from matplotlib>=1.4.3->jupyterthemes) (3.1.2)\n",
            "Requirement already satisfied: python-dateutil>=2.7 in /usr/local/lib/python3.10/dist-packages (from matplotlib>=1.4.3->jupyterthemes) (2.8.2)\n",
            "Requirement already satisfied: jinja2 in /usr/local/lib/python3.10/dist-packages (from notebook>=5.6.0->jupyterthemes) (3.1.4)\n",
            "Requirement already satisfied: tornado>=6.1 in /usr/local/lib/python3.10/dist-packages (from notebook>=5.6.0->jupyterthemes) (6.3.3)\n",
            "Requirement already satisfied: pyzmq<25,>=17 in /usr/local/lib/python3.10/dist-packages (from notebook>=5.6.0->jupyterthemes) (24.0.1)\n",
            "Requirement already satisfied: argon2-cffi in /usr/local/lib/python3.10/dist-packages (from notebook>=5.6.0->jupyterthemes) (23.1.0)\n",
            "Requirement already satisfied: jupyter-client<8,>=5.3.4 in /usr/local/lib/python3.10/dist-packages (from notebook>=5.6.0->jupyterthemes) (6.1.12)\n",
            "Requirement already satisfied: ipython-genutils in /usr/local/lib/python3.10/dist-packages (from notebook>=5.6.0->jupyterthemes) (0.2.0)\n",
            "Requirement already satisfied: nbformat in /usr/local/lib/python3.10/dist-packages (from notebook>=5.6.0->jupyterthemes) (5.10.4)\n",
            "Requirement already satisfied: nbconvert>=5 in /usr/local/lib/python3.10/dist-packages (from notebook>=5.6.0->jupyterthemes) (6.5.4)\n",
            "Requirement already satisfied: nest-asyncio>=1.5 in /usr/local/lib/python3.10/dist-packages (from notebook>=5.6.0->jupyterthemes) (1.6.0)\n",
            "Requirement already satisfied: ipykernel in /usr/local/lib/python3.10/dist-packages (from notebook>=5.6.0->jupyterthemes) (5.5.6)\n",
            "Requirement already satisfied: Send2Trash>=1.8.0 in /usr/local/lib/python3.10/dist-packages (from notebook>=5.6.0->jupyterthemes) (1.8.3)\n",
            "Requirement already satisfied: terminado>=0.8.3 in /usr/local/lib/python3.10/dist-packages (from notebook>=5.6.0->jupyterthemes) (0.18.1)\n",
            "Requirement already satisfied: prometheus-client in /usr/local/lib/python3.10/dist-packages (from notebook>=5.6.0->jupyterthemes) (0.20.0)\n",
            "Requirement already satisfied: nbclassic>=0.4.7 in /usr/local/lib/python3.10/dist-packages (from notebook>=5.6.0->jupyterthemes) (1.1.0)\n",
            "Requirement already satisfied: platformdirs>=2.5 in /usr/local/lib/python3.10/dist-packages (from jupyter-core->jupyterthemes) (4.2.2)\n",
            "Requirement already satisfied: parso<0.9.0,>=0.8.3 in /usr/local/lib/python3.10/dist-packages (from jedi>=0.16->ipython>=5.4.1->jupyterthemes) (0.8.4)\n",
            "Requirement already satisfied: notebook-shim>=0.2.3 in /usr/local/lib/python3.10/dist-packages (from nbclassic>=0.4.7->notebook>=5.6.0->jupyterthemes) (0.2.4)\n",
            "Requirement already satisfied: lxml in /usr/local/lib/python3.10/dist-packages (from nbconvert>=5->notebook>=5.6.0->jupyterthemes) (4.9.4)\n",
            "Requirement already satisfied: beautifulsoup4 in /usr/local/lib/python3.10/dist-packages (from nbconvert>=5->notebook>=5.6.0->jupyterthemes) (4.12.3)\n",
            "Requirement already satisfied: bleach in /usr/local/lib/python3.10/dist-packages (from nbconvert>=5->notebook>=5.6.0->jupyterthemes) (6.1.0)\n",
            "Requirement already satisfied: defusedxml in /usr/local/lib/python3.10/dist-packages (from nbconvert>=5->notebook>=5.6.0->jupyterthemes) (0.7.1)\n",
            "Requirement already satisfied: entrypoints>=0.2.2 in /usr/local/lib/python3.10/dist-packages (from nbconvert>=5->notebook>=5.6.0->jupyterthemes) (0.4)\n",
            "Requirement already satisfied: jupyterlab-pygments in /usr/local/lib/python3.10/dist-packages (from nbconvert>=5->notebook>=5.6.0->jupyterthemes) (0.3.0)\n",
            "Requirement already satisfied: MarkupSafe>=2.0 in /usr/local/lib/python3.10/dist-packages (from nbconvert>=5->notebook>=5.6.0->jupyterthemes) (2.1.5)\n",
            "Requirement already satisfied: mistune<2,>=0.8.1 in /usr/local/lib/python3.10/dist-packages (from nbconvert>=5->notebook>=5.6.0->jupyterthemes) (0.8.4)\n",
            "Requirement already satisfied: nbclient>=0.5.0 in /usr/local/lib/python3.10/dist-packages (from nbconvert>=5->notebook>=5.6.0->jupyterthemes) (0.10.0)\n",
            "Requirement already satisfied: pandocfilters>=1.4.1 in /usr/local/lib/python3.10/dist-packages (from nbconvert>=5->notebook>=5.6.0->jupyterthemes) (1.5.1)\n",
            "Requirement already satisfied: tinycss2 in /usr/local/lib/python3.10/dist-packages (from nbconvert>=5->notebook>=5.6.0->jupyterthemes) (1.3.0)\n",
            "Requirement already satisfied: fastjsonschema>=2.15 in /usr/local/lib/python3.10/dist-packages (from nbformat->notebook>=5.6.0->jupyterthemes) (2.19.1)\n",
            "Requirement already satisfied: jsonschema>=2.6 in /usr/local/lib/python3.10/dist-packages (from nbformat->notebook>=5.6.0->jupyterthemes) (4.19.2)\n",
            "Requirement already satisfied: ptyprocess>=0.5 in /usr/local/lib/python3.10/dist-packages (from pexpect>4.3->ipython>=5.4.1->jupyterthemes) (0.7.0)\n",
            "Requirement already satisfied: wcwidth in /usr/local/lib/python3.10/dist-packages (from prompt-toolkit!=3.0.0,!=3.0.1,<3.1.0,>=2.0.0->ipython>=5.4.1->jupyterthemes) (0.2.13)\n",
            "Requirement already satisfied: six>=1.5 in /usr/local/lib/python3.10/dist-packages (from python-dateutil>=2.7->matplotlib>=1.4.3->jupyterthemes) (1.16.0)\n",
            "Requirement already satisfied: argon2-cffi-bindings in /usr/local/lib/python3.10/dist-packages (from argon2-cffi->notebook>=5.6.0->jupyterthemes) (21.2.0)\n",
            "Requirement already satisfied: attrs>=22.2.0 in /usr/local/lib/python3.10/dist-packages (from jsonschema>=2.6->nbformat->notebook>=5.6.0->jupyterthemes) (23.2.0)\n",
            "Requirement already satisfied: jsonschema-specifications>=2023.03.6 in /usr/local/lib/python3.10/dist-packages (from jsonschema>=2.6->nbformat->notebook>=5.6.0->jupyterthemes) (2023.12.1)\n",
            "Requirement already satisfied: referencing>=0.28.4 in /usr/local/lib/python3.10/dist-packages (from jsonschema>=2.6->nbformat->notebook>=5.6.0->jupyterthemes) (0.35.1)\n",
            "Requirement already satisfied: rpds-py>=0.7.1 in /usr/local/lib/python3.10/dist-packages (from jsonschema>=2.6->nbformat->notebook>=5.6.0->jupyterthemes) (0.18.1)\n",
            "Requirement already satisfied: jupyter-server<3,>=1.8 in /usr/local/lib/python3.10/dist-packages (from notebook-shim>=0.2.3->nbclassic>=0.4.7->notebook>=5.6.0->jupyterthemes) (1.24.0)\n",
            "Requirement already satisfied: cffi>=1.0.1 in /usr/local/lib/python3.10/dist-packages (from argon2-cffi-bindings->argon2-cffi->notebook>=5.6.0->jupyterthemes) (1.16.0)\n",
            "Requirement already satisfied: soupsieve>1.2 in /usr/local/lib/python3.10/dist-packages (from beautifulsoup4->nbconvert>=5->notebook>=5.6.0->jupyterthemes) (2.5)\n",
            "Requirement already satisfied: webencodings in /usr/local/lib/python3.10/dist-packages (from bleach->nbconvert>=5->notebook>=5.6.0->jupyterthemes) (0.5.1)\n",
            "Requirement already satisfied: pycparser in /usr/local/lib/python3.10/dist-packages (from cffi>=1.0.1->argon2-cffi-bindings->argon2-cffi->notebook>=5.6.0->jupyterthemes) (2.22)\n",
            "Requirement already satisfied: anyio<4,>=3.1.0 in /usr/local/lib/python3.10/dist-packages (from jupyter-server<3,>=1.8->notebook-shim>=0.2.3->nbclassic>=0.4.7->notebook>=5.6.0->jupyterthemes) (3.7.1)\n",
            "Requirement already satisfied: websocket-client in /usr/local/lib/python3.10/dist-packages (from jupyter-server<3,>=1.8->notebook-shim>=0.2.3->nbclassic>=0.4.7->notebook>=5.6.0->jupyterthemes) (1.8.0)\n",
            "Requirement already satisfied: idna>=2.8 in /usr/local/lib/python3.10/dist-packages (from anyio<4,>=3.1.0->jupyter-server<3,>=1.8->notebook-shim>=0.2.3->nbclassic>=0.4.7->notebook>=5.6.0->jupyterthemes) (3.7)\n",
            "Requirement already satisfied: sniffio>=1.1 in /usr/local/lib/python3.10/dist-packages (from anyio<4,>=3.1.0->jupyter-server<3,>=1.8->notebook-shim>=0.2.3->nbclassic>=0.4.7->notebook>=5.6.0->jupyterthemes) (1.3.1)\n",
            "Requirement already satisfied: exceptiongroup in /usr/local/lib/python3.10/dist-packages (from anyio<4,>=3.1.0->jupyter-server<3,>=1.8->notebook-shim>=0.2.3->nbclassic>=0.4.7->notebook>=5.6.0->jupyterthemes) (1.2.1)\n",
            "Installing collected packages: ply, lesscpy, jedi, jupyterthemes\n",
            "Successfully installed jedi-0.19.1 jupyterthemes-0.20.0 lesscpy-0.15.1 ply-3.11\n"
          ]
        }
      ]
    },
    {
      "cell_type": "code",
      "execution_count": 3,
      "metadata": {
        "id": "S0Cx3743urFY"
      },
      "outputs": [],
      "source": [
        "import pandas as pd\n",
        "import numpy as np\n",
        "import seaborn as sns\n",
        "import matplotlib.pyplot as plt\n",
        "from sklearn.preprocessing import StandardScaler, normalize\n",
        "from sklearn.cluster import KMeans\n",
        "from sklearn.decomposition import PCA\n",
        "from jupyterthemes import jtplot\n",
        "jtplot.style(theme='monokai', context='notebook', ticks=True, grid=False)\n",
        "# setting the style of the notebook to be monokai theme\n",
        "# this line of code is important to ensure that we are able to see the x and y axes clearly\n",
        "# If you don't run this code line, you will notice that the xlabel and ylabel on any plot is black on black and it will be hard to see them.\n"
      ]
    },
    {
      "cell_type": "code",
      "execution_count": 5,
      "metadata": {
        "id": "tjIiJdM4u1IE"
      },
      "outputs": [],
      "source": [
        "# You have to include the full link to the csv file containing your dataset\n",
        "creditcard_df = pd.read_csv('marketing_data.csv')\n",
        "\n",
        "# CUSTID: Identification of Credit Card holder\n",
        "# BALANCE: Balance amount left in customer's account to make purchases\n",
        "# BALANCE_FREQUENCY: How frequently the Balance is updated, score between 0 and 1 (1 = frequently updated, 0 = not frequently updated)\n",
        "# PURCHASES: Amount of purchases made from account\n",
        "# ONEOFFPURCHASES: Maximum purchase amount done in one-go\n",
        "# INSTALLMENTS_PURCHASES: Amount of purchase done in installment\n",
        "# CASH_ADVANCE: Cash in advance given by the user\n",
        "# PURCHASES_FREQUENCY: How frequently the Purchases are being made, score between 0 and 1 (1 = frequently purchased, 0 = not frequently purchased)\n",
        "# ONEOFF_PURCHASES_FREQUENCY: How frequently Purchases are happening in one-go (1 = frequently purchased, 0 = not frequently purchased)\n",
        "# PURCHASES_INSTALLMENTS_FREQUENCY: How frequently purchases in installments are being done (1 = frequently done, 0 = not frequently done)\n",
        "# CASH_ADVANCE_FREQUENCY: How frequently the cash in advance being paid\n",
        "# CASH_ADVANCE_TRX: Number of Transactions made with \"Cash in Advance\"\n",
        "# PURCHASES_TRX: Number of purchase transactions made\n",
        "# CREDIT_LIMIT: Limit of Credit Card for user\n",
        "# PAYMENTS: Amount of Payment done by user\n",
        "# MINIMUM_PAYMENTS: Minimum amount of payments made by user\n",
        "# PRC_FULL_PAYMENT: Percent of full payment paid by user\n",
        "# TENURE: Tenure of credit card service for user"
      ]
    },
    {
      "cell_type": "code",
      "execution_count": 6,
      "metadata": {
        "colab": {
          "base_uri": "https://localhost:8080/",
          "height": 443
        },
        "id": "q4_wPDKCu5Uc",
        "scrolled": true,
        "outputId": "dded19df-8803-4151-f967-f4515016863f"
      },
      "outputs": [
        {
          "output_type": "execute_result",
          "data": {
            "text/plain": [
              "     CUST_ID      BALANCE  BALANCE_FREQUENCY  PURCHASES  ONEOFF_PURCHASES  \\\n",
              "0     C10001    40.900749           0.818182      95.40              0.00   \n",
              "1     C10002  3202.467416           0.909091       0.00              0.00   \n",
              "2     C10003  2495.148862           1.000000     773.17            773.17   \n",
              "3     C10004  1666.670542           0.636364    1499.00           1499.00   \n",
              "4     C10005   817.714335           1.000000      16.00             16.00   \n",
              "...      ...          ...                ...        ...               ...   \n",
              "8945  C19186    28.493517           1.000000     291.12              0.00   \n",
              "8946  C19187    19.183215           1.000000     300.00              0.00   \n",
              "8947  C19188    23.398673           0.833333     144.40              0.00   \n",
              "8948  C19189    13.457564           0.833333       0.00              0.00   \n",
              "8949  C19190   372.708075           0.666667    1093.25           1093.25   \n",
              "\n",
              "      INSTALLMENTS_PURCHASES  CASH_ADVANCE  PURCHASES_FREQUENCY  \\\n",
              "0                      95.40      0.000000             0.166667   \n",
              "1                       0.00   6442.945483             0.000000   \n",
              "2                       0.00      0.000000             1.000000   \n",
              "3                       0.00    205.788017             0.083333   \n",
              "4                       0.00      0.000000             0.083333   \n",
              "...                      ...           ...                  ...   \n",
              "8945                  291.12      0.000000             1.000000   \n",
              "8946                  300.00      0.000000             1.000000   \n",
              "8947                  144.40      0.000000             0.833333   \n",
              "8948                    0.00     36.558778             0.000000   \n",
              "8949                    0.00    127.040008             0.666667   \n",
              "\n",
              "      ONEOFF_PURCHASES_FREQUENCY  PURCHASES_INSTALLMENTS_FREQUENCY  \\\n",
              "0                       0.000000                          0.083333   \n",
              "1                       0.000000                          0.000000   \n",
              "2                       1.000000                          0.000000   \n",
              "3                       0.083333                          0.000000   \n",
              "4                       0.083333                          0.000000   \n",
              "...                          ...                               ...   \n",
              "8945                    0.000000                          0.833333   \n",
              "8946                    0.000000                          0.833333   \n",
              "8947                    0.000000                          0.666667   \n",
              "8948                    0.000000                          0.000000   \n",
              "8949                    0.666667                          0.000000   \n",
              "\n",
              "      CASH_ADVANCE_FREQUENCY  CASH_ADVANCE_TRX  PURCHASES_TRX  CREDIT_LIMIT  \\\n",
              "0                   0.000000                 0              2        1000.0   \n",
              "1                   0.250000                 4              0        7000.0   \n",
              "2                   0.000000                 0             12        7500.0   \n",
              "3                   0.083333                 1              1        7500.0   \n",
              "4                   0.000000                 0              1        1200.0   \n",
              "...                      ...               ...            ...           ...   \n",
              "8945                0.000000                 0              6        1000.0   \n",
              "8946                0.000000                 0              6        1000.0   \n",
              "8947                0.000000                 0              5        1000.0   \n",
              "8948                0.166667                 2              0         500.0   \n",
              "8949                0.333333                 2             23        1200.0   \n",
              "\n",
              "         PAYMENTS  MINIMUM_PAYMENTS  PRC_FULL_PAYMENT  TENURE  \n",
              "0      201.802084        139.509787          0.000000      12  \n",
              "1     4103.032597       1072.340217          0.222222      12  \n",
              "2      622.066742        627.284787          0.000000      12  \n",
              "3        0.000000               NaN          0.000000      12  \n",
              "4      678.334763        244.791237          0.000000      12  \n",
              "...           ...               ...               ...     ...  \n",
              "8945   325.594462         48.886365          0.500000       6  \n",
              "8946   275.861322               NaN          0.000000       6  \n",
              "8947    81.270775         82.418369          0.250000       6  \n",
              "8948    52.549959         55.755628          0.250000       6  \n",
              "8949    63.165404         88.288956          0.000000       6  \n",
              "\n",
              "[8950 rows x 18 columns]"
            ],
            "text/html": [
              "\n",
              "  <div id=\"df-39e504d4-7458-494c-8d10-15c7ec858ac9\" class=\"colab-df-container\">\n",
              "    <div>\n",
              "<style scoped>\n",
              "    .dataframe tbody tr th:only-of-type {\n",
              "        vertical-align: middle;\n",
              "    }\n",
              "\n",
              "    .dataframe tbody tr th {\n",
              "        vertical-align: top;\n",
              "    }\n",
              "\n",
              "    .dataframe thead th {\n",
              "        text-align: right;\n",
              "    }\n",
              "</style>\n",
              "<table border=\"1\" class=\"dataframe\">\n",
              "  <thead>\n",
              "    <tr style=\"text-align: right;\">\n",
              "      <th></th>\n",
              "      <th>CUST_ID</th>\n",
              "      <th>BALANCE</th>\n",
              "      <th>BALANCE_FREQUENCY</th>\n",
              "      <th>PURCHASES</th>\n",
              "      <th>ONEOFF_PURCHASES</th>\n",
              "      <th>INSTALLMENTS_PURCHASES</th>\n",
              "      <th>CASH_ADVANCE</th>\n",
              "      <th>PURCHASES_FREQUENCY</th>\n",
              "      <th>ONEOFF_PURCHASES_FREQUENCY</th>\n",
              "      <th>PURCHASES_INSTALLMENTS_FREQUENCY</th>\n",
              "      <th>CASH_ADVANCE_FREQUENCY</th>\n",
              "      <th>CASH_ADVANCE_TRX</th>\n",
              "      <th>PURCHASES_TRX</th>\n",
              "      <th>CREDIT_LIMIT</th>\n",
              "      <th>PAYMENTS</th>\n",
              "      <th>MINIMUM_PAYMENTS</th>\n",
              "      <th>PRC_FULL_PAYMENT</th>\n",
              "      <th>TENURE</th>\n",
              "    </tr>\n",
              "  </thead>\n",
              "  <tbody>\n",
              "    <tr>\n",
              "      <th>0</th>\n",
              "      <td>C10001</td>\n",
              "      <td>40.900749</td>\n",
              "      <td>0.818182</td>\n",
              "      <td>95.40</td>\n",
              "      <td>0.00</td>\n",
              "      <td>95.40</td>\n",
              "      <td>0.000000</td>\n",
              "      <td>0.166667</td>\n",
              "      <td>0.000000</td>\n",
              "      <td>0.083333</td>\n",
              "      <td>0.000000</td>\n",
              "      <td>0</td>\n",
              "      <td>2</td>\n",
              "      <td>1000.0</td>\n",
              "      <td>201.802084</td>\n",
              "      <td>139.509787</td>\n",
              "      <td>0.000000</td>\n",
              "      <td>12</td>\n",
              "    </tr>\n",
              "    <tr>\n",
              "      <th>1</th>\n",
              "      <td>C10002</td>\n",
              "      <td>3202.467416</td>\n",
              "      <td>0.909091</td>\n",
              "      <td>0.00</td>\n",
              "      <td>0.00</td>\n",
              "      <td>0.00</td>\n",
              "      <td>6442.945483</td>\n",
              "      <td>0.000000</td>\n",
              "      <td>0.000000</td>\n",
              "      <td>0.000000</td>\n",
              "      <td>0.250000</td>\n",
              "      <td>4</td>\n",
              "      <td>0</td>\n",
              "      <td>7000.0</td>\n",
              "      <td>4103.032597</td>\n",
              "      <td>1072.340217</td>\n",
              "      <td>0.222222</td>\n",
              "      <td>12</td>\n",
              "    </tr>\n",
              "    <tr>\n",
              "      <th>2</th>\n",
              "      <td>C10003</td>\n",
              "      <td>2495.148862</td>\n",
              "      <td>1.000000</td>\n",
              "      <td>773.17</td>\n",
              "      <td>773.17</td>\n",
              "      <td>0.00</td>\n",
              "      <td>0.000000</td>\n",
              "      <td>1.000000</td>\n",
              "      <td>1.000000</td>\n",
              "      <td>0.000000</td>\n",
              "      <td>0.000000</td>\n",
              "      <td>0</td>\n",
              "      <td>12</td>\n",
              "      <td>7500.0</td>\n",
              "      <td>622.066742</td>\n",
              "      <td>627.284787</td>\n",
              "      <td>0.000000</td>\n",
              "      <td>12</td>\n",
              "    </tr>\n",
              "    <tr>\n",
              "      <th>3</th>\n",
              "      <td>C10004</td>\n",
              "      <td>1666.670542</td>\n",
              "      <td>0.636364</td>\n",
              "      <td>1499.00</td>\n",
              "      <td>1499.00</td>\n",
              "      <td>0.00</td>\n",
              "      <td>205.788017</td>\n",
              "      <td>0.083333</td>\n",
              "      <td>0.083333</td>\n",
              "      <td>0.000000</td>\n",
              "      <td>0.083333</td>\n",
              "      <td>1</td>\n",
              "      <td>1</td>\n",
              "      <td>7500.0</td>\n",
              "      <td>0.000000</td>\n",
              "      <td>NaN</td>\n",
              "      <td>0.000000</td>\n",
              "      <td>12</td>\n",
              "    </tr>\n",
              "    <tr>\n",
              "      <th>4</th>\n",
              "      <td>C10005</td>\n",
              "      <td>817.714335</td>\n",
              "      <td>1.000000</td>\n",
              "      <td>16.00</td>\n",
              "      <td>16.00</td>\n",
              "      <td>0.00</td>\n",
              "      <td>0.000000</td>\n",
              "      <td>0.083333</td>\n",
              "      <td>0.083333</td>\n",
              "      <td>0.000000</td>\n",
              "      <td>0.000000</td>\n",
              "      <td>0</td>\n",
              "      <td>1</td>\n",
              "      <td>1200.0</td>\n",
              "      <td>678.334763</td>\n",
              "      <td>244.791237</td>\n",
              "      <td>0.000000</td>\n",
              "      <td>12</td>\n",
              "    </tr>\n",
              "    <tr>\n",
              "      <th>...</th>\n",
              "      <td>...</td>\n",
              "      <td>...</td>\n",
              "      <td>...</td>\n",
              "      <td>...</td>\n",
              "      <td>...</td>\n",
              "      <td>...</td>\n",
              "      <td>...</td>\n",
              "      <td>...</td>\n",
              "      <td>...</td>\n",
              "      <td>...</td>\n",
              "      <td>...</td>\n",
              "      <td>...</td>\n",
              "      <td>...</td>\n",
              "      <td>...</td>\n",
              "      <td>...</td>\n",
              "      <td>...</td>\n",
              "      <td>...</td>\n",
              "      <td>...</td>\n",
              "    </tr>\n",
              "    <tr>\n",
              "      <th>8945</th>\n",
              "      <td>C19186</td>\n",
              "      <td>28.493517</td>\n",
              "      <td>1.000000</td>\n",
              "      <td>291.12</td>\n",
              "      <td>0.00</td>\n",
              "      <td>291.12</td>\n",
              "      <td>0.000000</td>\n",
              "      <td>1.000000</td>\n",
              "      <td>0.000000</td>\n",
              "      <td>0.833333</td>\n",
              "      <td>0.000000</td>\n",
              "      <td>0</td>\n",
              "      <td>6</td>\n",
              "      <td>1000.0</td>\n",
              "      <td>325.594462</td>\n",
              "      <td>48.886365</td>\n",
              "      <td>0.500000</td>\n",
              "      <td>6</td>\n",
              "    </tr>\n",
              "    <tr>\n",
              "      <th>8946</th>\n",
              "      <td>C19187</td>\n",
              "      <td>19.183215</td>\n",
              "      <td>1.000000</td>\n",
              "      <td>300.00</td>\n",
              "      <td>0.00</td>\n",
              "      <td>300.00</td>\n",
              "      <td>0.000000</td>\n",
              "      <td>1.000000</td>\n",
              "      <td>0.000000</td>\n",
              "      <td>0.833333</td>\n",
              "      <td>0.000000</td>\n",
              "      <td>0</td>\n",
              "      <td>6</td>\n",
              "      <td>1000.0</td>\n",
              "      <td>275.861322</td>\n",
              "      <td>NaN</td>\n",
              "      <td>0.000000</td>\n",
              "      <td>6</td>\n",
              "    </tr>\n",
              "    <tr>\n",
              "      <th>8947</th>\n",
              "      <td>C19188</td>\n",
              "      <td>23.398673</td>\n",
              "      <td>0.833333</td>\n",
              "      <td>144.40</td>\n",
              "      <td>0.00</td>\n",
              "      <td>144.40</td>\n",
              "      <td>0.000000</td>\n",
              "      <td>0.833333</td>\n",
              "      <td>0.000000</td>\n",
              "      <td>0.666667</td>\n",
              "      <td>0.000000</td>\n",
              "      <td>0</td>\n",
              "      <td>5</td>\n",
              "      <td>1000.0</td>\n",
              "      <td>81.270775</td>\n",
              "      <td>82.418369</td>\n",
              "      <td>0.250000</td>\n",
              "      <td>6</td>\n",
              "    </tr>\n",
              "    <tr>\n",
              "      <th>8948</th>\n",
              "      <td>C19189</td>\n",
              "      <td>13.457564</td>\n",
              "      <td>0.833333</td>\n",
              "      <td>0.00</td>\n",
              "      <td>0.00</td>\n",
              "      <td>0.00</td>\n",
              "      <td>36.558778</td>\n",
              "      <td>0.000000</td>\n",
              "      <td>0.000000</td>\n",
              "      <td>0.000000</td>\n",
              "      <td>0.166667</td>\n",
              "      <td>2</td>\n",
              "      <td>0</td>\n",
              "      <td>500.0</td>\n",
              "      <td>52.549959</td>\n",
              "      <td>55.755628</td>\n",
              "      <td>0.250000</td>\n",
              "      <td>6</td>\n",
              "    </tr>\n",
              "    <tr>\n",
              "      <th>8949</th>\n",
              "      <td>C19190</td>\n",
              "      <td>372.708075</td>\n",
              "      <td>0.666667</td>\n",
              "      <td>1093.25</td>\n",
              "      <td>1093.25</td>\n",
              "      <td>0.00</td>\n",
              "      <td>127.040008</td>\n",
              "      <td>0.666667</td>\n",
              "      <td>0.666667</td>\n",
              "      <td>0.000000</td>\n",
              "      <td>0.333333</td>\n",
              "      <td>2</td>\n",
              "      <td>23</td>\n",
              "      <td>1200.0</td>\n",
              "      <td>63.165404</td>\n",
              "      <td>88.288956</td>\n",
              "      <td>0.000000</td>\n",
              "      <td>6</td>\n",
              "    </tr>\n",
              "  </tbody>\n",
              "</table>\n",
              "<p>8950 rows × 18 columns</p>\n",
              "</div>\n",
              "    <div class=\"colab-df-buttons\">\n",
              "\n",
              "  <div class=\"colab-df-container\">\n",
              "    <button class=\"colab-df-convert\" onclick=\"convertToInteractive('df-39e504d4-7458-494c-8d10-15c7ec858ac9')\"\n",
              "            title=\"Convert this dataframe to an interactive table.\"\n",
              "            style=\"display:none;\">\n",
              "\n",
              "  <svg xmlns=\"http://www.w3.org/2000/svg\" height=\"24px\" viewBox=\"0 -960 960 960\">\n",
              "    <path d=\"M120-120v-720h720v720H120Zm60-500h600v-160H180v160Zm220 220h160v-160H400v160Zm0 220h160v-160H400v160ZM180-400h160v-160H180v160Zm440 0h160v-160H620v160ZM180-180h160v-160H180v160Zm440 0h160v-160H620v160Z\"/>\n",
              "  </svg>\n",
              "    </button>\n",
              "\n",
              "  <style>\n",
              "    .colab-df-container {\n",
              "      display:flex;\n",
              "      gap: 12px;\n",
              "    }\n",
              "\n",
              "    .colab-df-convert {\n",
              "      background-color: #E8F0FE;\n",
              "      border: none;\n",
              "      border-radius: 50%;\n",
              "      cursor: pointer;\n",
              "      display: none;\n",
              "      fill: #1967D2;\n",
              "      height: 32px;\n",
              "      padding: 0 0 0 0;\n",
              "      width: 32px;\n",
              "    }\n",
              "\n",
              "    .colab-df-convert:hover {\n",
              "      background-color: #E2EBFA;\n",
              "      box-shadow: 0px 1px 2px rgba(60, 64, 67, 0.3), 0px 1px 3px 1px rgba(60, 64, 67, 0.15);\n",
              "      fill: #174EA6;\n",
              "    }\n",
              "\n",
              "    .colab-df-buttons div {\n",
              "      margin-bottom: 4px;\n",
              "    }\n",
              "\n",
              "    [theme=dark] .colab-df-convert {\n",
              "      background-color: #3B4455;\n",
              "      fill: #D2E3FC;\n",
              "    }\n",
              "\n",
              "    [theme=dark] .colab-df-convert:hover {\n",
              "      background-color: #434B5C;\n",
              "      box-shadow: 0px 1px 3px 1px rgba(0, 0, 0, 0.15);\n",
              "      filter: drop-shadow(0px 1px 2px rgba(0, 0, 0, 0.3));\n",
              "      fill: #FFFFFF;\n",
              "    }\n",
              "  </style>\n",
              "\n",
              "    <script>\n",
              "      const buttonEl =\n",
              "        document.querySelector('#df-39e504d4-7458-494c-8d10-15c7ec858ac9 button.colab-df-convert');\n",
              "      buttonEl.style.display =\n",
              "        google.colab.kernel.accessAllowed ? 'block' : 'none';\n",
              "\n",
              "      async function convertToInteractive(key) {\n",
              "        const element = document.querySelector('#df-39e504d4-7458-494c-8d10-15c7ec858ac9');\n",
              "        const dataTable =\n",
              "          await google.colab.kernel.invokeFunction('convertToInteractive',\n",
              "                                                    [key], {});\n",
              "        if (!dataTable) return;\n",
              "\n",
              "        const docLinkHtml = 'Like what you see? Visit the ' +\n",
              "          '<a target=\"_blank\" href=https://colab.research.google.com/notebooks/data_table.ipynb>data table notebook</a>'\n",
              "          + ' to learn more about interactive tables.';\n",
              "        element.innerHTML = '';\n",
              "        dataTable['output_type'] = 'display_data';\n",
              "        await google.colab.output.renderOutput(dataTable, element);\n",
              "        const docLink = document.createElement('div');\n",
              "        docLink.innerHTML = docLinkHtml;\n",
              "        element.appendChild(docLink);\n",
              "      }\n",
              "    </script>\n",
              "  </div>\n",
              "\n",
              "\n",
              "<div id=\"df-76cfa38c-a5b6-4e3c-a36b-b84f7dc3f581\">\n",
              "  <button class=\"colab-df-quickchart\" onclick=\"quickchart('df-76cfa38c-a5b6-4e3c-a36b-b84f7dc3f581')\"\n",
              "            title=\"Suggest charts\"\n",
              "            style=\"display:none;\">\n",
              "\n",
              "<svg xmlns=\"http://www.w3.org/2000/svg\" height=\"24px\"viewBox=\"0 0 24 24\"\n",
              "     width=\"24px\">\n",
              "    <g>\n",
              "        <path d=\"M19 3H5c-1.1 0-2 .9-2 2v14c0 1.1.9 2 2 2h14c1.1 0 2-.9 2-2V5c0-1.1-.9-2-2-2zM9 17H7v-7h2v7zm4 0h-2V7h2v10zm4 0h-2v-4h2v4z\"/>\n",
              "    </g>\n",
              "</svg>\n",
              "  </button>\n",
              "\n",
              "<style>\n",
              "  .colab-df-quickchart {\n",
              "      --bg-color: #E8F0FE;\n",
              "      --fill-color: #1967D2;\n",
              "      --hover-bg-color: #E2EBFA;\n",
              "      --hover-fill-color: #174EA6;\n",
              "      --disabled-fill-color: #AAA;\n",
              "      --disabled-bg-color: #DDD;\n",
              "  }\n",
              "\n",
              "  [theme=dark] .colab-df-quickchart {\n",
              "      --bg-color: #3B4455;\n",
              "      --fill-color: #D2E3FC;\n",
              "      --hover-bg-color: #434B5C;\n",
              "      --hover-fill-color: #FFFFFF;\n",
              "      --disabled-bg-color: #3B4455;\n",
              "      --disabled-fill-color: #666;\n",
              "  }\n",
              "\n",
              "  .colab-df-quickchart {\n",
              "    background-color: var(--bg-color);\n",
              "    border: none;\n",
              "    border-radius: 50%;\n",
              "    cursor: pointer;\n",
              "    display: none;\n",
              "    fill: var(--fill-color);\n",
              "    height: 32px;\n",
              "    padding: 0;\n",
              "    width: 32px;\n",
              "  }\n",
              "\n",
              "  .colab-df-quickchart:hover {\n",
              "    background-color: var(--hover-bg-color);\n",
              "    box-shadow: 0 1px 2px rgba(60, 64, 67, 0.3), 0 1px 3px 1px rgba(60, 64, 67, 0.15);\n",
              "    fill: var(--button-hover-fill-color);\n",
              "  }\n",
              "\n",
              "  .colab-df-quickchart-complete:disabled,\n",
              "  .colab-df-quickchart-complete:disabled:hover {\n",
              "    background-color: var(--disabled-bg-color);\n",
              "    fill: var(--disabled-fill-color);\n",
              "    box-shadow: none;\n",
              "  }\n",
              "\n",
              "  .colab-df-spinner {\n",
              "    border: 2px solid var(--fill-color);\n",
              "    border-color: transparent;\n",
              "    border-bottom-color: var(--fill-color);\n",
              "    animation:\n",
              "      spin 1s steps(1) infinite;\n",
              "  }\n",
              "\n",
              "  @keyframes spin {\n",
              "    0% {\n",
              "      border-color: transparent;\n",
              "      border-bottom-color: var(--fill-color);\n",
              "      border-left-color: var(--fill-color);\n",
              "    }\n",
              "    20% {\n",
              "      border-color: transparent;\n",
              "      border-left-color: var(--fill-color);\n",
              "      border-top-color: var(--fill-color);\n",
              "    }\n",
              "    30% {\n",
              "      border-color: transparent;\n",
              "      border-left-color: var(--fill-color);\n",
              "      border-top-color: var(--fill-color);\n",
              "      border-right-color: var(--fill-color);\n",
              "    }\n",
              "    40% {\n",
              "      border-color: transparent;\n",
              "      border-right-color: var(--fill-color);\n",
              "      border-top-color: var(--fill-color);\n",
              "    }\n",
              "    60% {\n",
              "      border-color: transparent;\n",
              "      border-right-color: var(--fill-color);\n",
              "    }\n",
              "    80% {\n",
              "      border-color: transparent;\n",
              "      border-right-color: var(--fill-color);\n",
              "      border-bottom-color: var(--fill-color);\n",
              "    }\n",
              "    90% {\n",
              "      border-color: transparent;\n",
              "      border-bottom-color: var(--fill-color);\n",
              "    }\n",
              "  }\n",
              "</style>\n",
              "\n",
              "  <script>\n",
              "    async function quickchart(key) {\n",
              "      const quickchartButtonEl =\n",
              "        document.querySelector('#' + key + ' button');\n",
              "      quickchartButtonEl.disabled = true;  // To prevent multiple clicks.\n",
              "      quickchartButtonEl.classList.add('colab-df-spinner');\n",
              "      try {\n",
              "        const charts = await google.colab.kernel.invokeFunction(\n",
              "            'suggestCharts', [key], {});\n",
              "      } catch (error) {\n",
              "        console.error('Error during call to suggestCharts:', error);\n",
              "      }\n",
              "      quickchartButtonEl.classList.remove('colab-df-spinner');\n",
              "      quickchartButtonEl.classList.add('colab-df-quickchart-complete');\n",
              "    }\n",
              "    (() => {\n",
              "      let quickchartButtonEl =\n",
              "        document.querySelector('#df-76cfa38c-a5b6-4e3c-a36b-b84f7dc3f581 button');\n",
              "      quickchartButtonEl.style.display =\n",
              "        google.colab.kernel.accessAllowed ? 'block' : 'none';\n",
              "    })();\n",
              "  </script>\n",
              "</div>\n",
              "\n",
              "  <div id=\"id_d73731be-d35e-441c-ad2e-25f4c3acb3d3\">\n",
              "    <style>\n",
              "      .colab-df-generate {\n",
              "        background-color: #E8F0FE;\n",
              "        border: none;\n",
              "        border-radius: 50%;\n",
              "        cursor: pointer;\n",
              "        display: none;\n",
              "        fill: #1967D2;\n",
              "        height: 32px;\n",
              "        padding: 0 0 0 0;\n",
              "        width: 32px;\n",
              "      }\n",
              "\n",
              "      .colab-df-generate:hover {\n",
              "        background-color: #E2EBFA;\n",
              "        box-shadow: 0px 1px 2px rgba(60, 64, 67, 0.3), 0px 1px 3px 1px rgba(60, 64, 67, 0.15);\n",
              "        fill: #174EA6;\n",
              "      }\n",
              "\n",
              "      [theme=dark] .colab-df-generate {\n",
              "        background-color: #3B4455;\n",
              "        fill: #D2E3FC;\n",
              "      }\n",
              "\n",
              "      [theme=dark] .colab-df-generate:hover {\n",
              "        background-color: #434B5C;\n",
              "        box-shadow: 0px 1px 3px 1px rgba(0, 0, 0, 0.15);\n",
              "        filter: drop-shadow(0px 1px 2px rgba(0, 0, 0, 0.3));\n",
              "        fill: #FFFFFF;\n",
              "      }\n",
              "    </style>\n",
              "    <button class=\"colab-df-generate\" onclick=\"generateWithVariable('creditcard_df')\"\n",
              "            title=\"Generate code using this dataframe.\"\n",
              "            style=\"display:none;\">\n",
              "\n",
              "  <svg xmlns=\"http://www.w3.org/2000/svg\" height=\"24px\"viewBox=\"0 0 24 24\"\n",
              "       width=\"24px\">\n",
              "    <path d=\"M7,19H8.4L18.45,9,17,7.55,7,17.6ZM5,21V16.75L18.45,3.32a2,2,0,0,1,2.83,0l1.4,1.43a1.91,1.91,0,0,1,.58,1.4,1.91,1.91,0,0,1-.58,1.4L9.25,21ZM18.45,9,17,7.55Zm-12,3A5.31,5.31,0,0,0,4.9,8.1,5.31,5.31,0,0,0,1,6.5,5.31,5.31,0,0,0,4.9,4.9,5.31,5.31,0,0,0,6.5,1,5.31,5.31,0,0,0,8.1,4.9,5.31,5.31,0,0,0,12,6.5,5.46,5.46,0,0,0,6.5,12Z\"/>\n",
              "  </svg>\n",
              "    </button>\n",
              "    <script>\n",
              "      (() => {\n",
              "      const buttonEl =\n",
              "        document.querySelector('#id_d73731be-d35e-441c-ad2e-25f4c3acb3d3 button.colab-df-generate');\n",
              "      buttonEl.style.display =\n",
              "        google.colab.kernel.accessAllowed ? 'block' : 'none';\n",
              "\n",
              "      buttonEl.onclick = () => {\n",
              "        google.colab.notebook.generateWithVariable('creditcard_df');\n",
              "      }\n",
              "      })();\n",
              "    </script>\n",
              "  </div>\n",
              "\n",
              "    </div>\n",
              "  </div>\n"
            ],
            "application/vnd.google.colaboratory.intrinsic+json": {
              "type": "dataframe",
              "variable_name": "creditcard_df",
              "summary": "{\n  \"name\": \"creditcard_df\",\n  \"rows\": 8950,\n  \"fields\": [\n    {\n      \"column\": \"CUST_ID\",\n      \"properties\": {\n        \"dtype\": \"string\",\n        \"num_unique_values\": 8950,\n        \"samples\": [\n          \"C17875\",\n          \"C16296\",\n          \"C17219\"\n        ],\n        \"semantic_type\": \"\",\n        \"description\": \"\"\n      }\n    },\n    {\n      \"column\": \"BALANCE\",\n      \"properties\": {\n        \"dtype\": \"number\",\n        \"std\": 2081.5318794565546,\n        \"min\": 0.0,\n        \"max\": 19043.13856,\n        \"num_unique_values\": 8871,\n        \"samples\": [\n          325.024091,\n          965.514081,\n          203.499251\n        ],\n        \"semantic_type\": \"\",\n        \"description\": \"\"\n      }\n    },\n    {\n      \"column\": \"BALANCE_FREQUENCY\",\n      \"properties\": {\n        \"dtype\": \"number\",\n        \"std\": 0.23690400268476855,\n        \"min\": 0.0,\n        \"max\": 1.0,\n        \"num_unique_values\": 43,\n        \"samples\": [\n          0.428571,\n          0.8,\n          0.2\n        ],\n        \"semantic_type\": \"\",\n        \"description\": \"\"\n      }\n    },\n    {\n      \"column\": \"PURCHASES\",\n      \"properties\": {\n        \"dtype\": \"number\",\n        \"std\": 2136.6347818728887,\n        \"min\": 0.0,\n        \"max\": 49039.57,\n        \"num_unique_values\": 6203,\n        \"samples\": [\n          1361.65,\n          2485.54,\n          2580.63\n        ],\n        \"semantic_type\": \"\",\n        \"description\": \"\"\n      }\n    },\n    {\n      \"column\": \"ONEOFF_PURCHASES\",\n      \"properties\": {\n        \"dtype\": \"number\",\n        \"std\": 1659.887917437811,\n        \"min\": 0.0,\n        \"max\": 40761.25,\n        \"num_unique_values\": 4014,\n        \"samples\": [\n          25.62,\n          13007.07,\n          185.63\n        ],\n        \"semantic_type\": \"\",\n        \"description\": \"\"\n      }\n    },\n    {\n      \"column\": \"INSTALLMENTS_PURCHASES\",\n      \"properties\": {\n        \"dtype\": \"number\",\n        \"std\": 904.3381151753817,\n        \"min\": 0.0,\n        \"max\": 22500.0,\n        \"num_unique_values\": 4452,\n        \"samples\": [\n          228.56,\n          255.58,\n          729.6\n        ],\n        \"semantic_type\": \"\",\n        \"description\": \"\"\n      }\n    },\n    {\n      \"column\": \"CASH_ADVANCE\",\n      \"properties\": {\n        \"dtype\": \"number\",\n        \"std\": 2097.163876643234,\n        \"min\": 0.0,\n        \"max\": 47137.21176,\n        \"num_unique_values\": 4323,\n        \"samples\": [\n          4473.3497,\n          520.844673,\n          3968.684047\n        ],\n        \"semantic_type\": \"\",\n        \"description\": \"\"\n      }\n    },\n    {\n      \"column\": \"PURCHASES_FREQUENCY\",\n      \"properties\": {\n        \"dtype\": \"number\",\n        \"std\": 0.40137074736904105,\n        \"min\": 0.0,\n        \"max\": 1.0,\n        \"num_unique_values\": 47,\n        \"samples\": [\n          0.8,\n          0.555556,\n          0.2\n        ],\n        \"semantic_type\": \"\",\n        \"description\": \"\"\n      }\n    },\n    {\n      \"column\": \"ONEOFF_PURCHASES_FREQUENCY\",\n      \"properties\": {\n        \"dtype\": \"number\",\n        \"std\": 0.2983360651847195,\n        \"min\": 0.0,\n        \"max\": 1.0,\n        \"num_unique_values\": 47,\n        \"samples\": [\n          0.909091,\n          0.625,\n          0.181818\n        ],\n        \"semantic_type\": \"\",\n        \"description\": \"\"\n      }\n    },\n    {\n      \"column\": \"PURCHASES_INSTALLMENTS_FREQUENCY\",\n      \"properties\": {\n        \"dtype\": \"number\",\n        \"std\": 0.39744777974541307,\n        \"min\": 0.0,\n        \"max\": 1.0,\n        \"num_unique_values\": 47,\n        \"samples\": [\n          0.857143,\n          0.222222,\n          0.142857\n        ],\n        \"semantic_type\": \"\",\n        \"description\": \"\"\n      }\n    },\n    {\n      \"column\": \"CASH_ADVANCE_FREQUENCY\",\n      \"properties\": {\n        \"dtype\": \"number\",\n        \"std\": 0.2001213881474969,\n        \"min\": 0.0,\n        \"max\": 1.5,\n        \"num_unique_values\": 54,\n        \"samples\": [\n          0.222222,\n          0.818182,\n          0.7\n        ],\n        \"semantic_type\": \"\",\n        \"description\": \"\"\n      }\n    },\n    {\n      \"column\": \"CASH_ADVANCE_TRX\",\n      \"properties\": {\n        \"dtype\": \"number\",\n        \"std\": 6,\n        \"min\": 0,\n        \"max\": 123,\n        \"num_unique_values\": 65,\n        \"samples\": [\n          47,\n          61,\n          0\n        ],\n        \"semantic_type\": \"\",\n        \"description\": \"\"\n      }\n    },\n    {\n      \"column\": \"PURCHASES_TRX\",\n      \"properties\": {\n        \"dtype\": \"number\",\n        \"std\": 24,\n        \"min\": 0,\n        \"max\": 358,\n        \"num_unique_values\": 173,\n        \"samples\": [\n          162,\n          216,\n          79\n        ],\n        \"semantic_type\": \"\",\n        \"description\": \"\"\n      }\n    },\n    {\n      \"column\": \"CREDIT_LIMIT\",\n      \"properties\": {\n        \"dtype\": \"number\",\n        \"std\": 3638.8157254984967,\n        \"min\": 50.0,\n        \"max\": 30000.0,\n        \"num_unique_values\": 205,\n        \"samples\": [\n          9000.0,\n          3000.0,\n          300.0\n        ],\n        \"semantic_type\": \"\",\n        \"description\": \"\"\n      }\n    },\n    {\n      \"column\": \"PAYMENTS\",\n      \"properties\": {\n        \"dtype\": \"number\",\n        \"std\": 2895.063756904574,\n        \"min\": 0.0,\n        \"max\": 50721.48336,\n        \"num_unique_values\": 8711,\n        \"samples\": [\n          810.671862,\n          5943.975673,\n          7079.1781\n        ],\n        \"semantic_type\": \"\",\n        \"description\": \"\"\n      }\n    },\n    {\n      \"column\": \"MINIMUM_PAYMENTS\",\n      \"properties\": {\n        \"dtype\": \"number\",\n        \"std\": 2372.4466065839747,\n        \"min\": 0.019163,\n        \"max\": 76406.20752,\n        \"num_unique_values\": 8636,\n        \"samples\": [\n          173.484575,\n          185.120378,\n          163.711273\n        ],\n        \"semantic_type\": \"\",\n        \"description\": \"\"\n      }\n    },\n    {\n      \"column\": \"PRC_FULL_PAYMENT\",\n      \"properties\": {\n        \"dtype\": \"number\",\n        \"std\": 0.29249919623387854,\n        \"min\": 0.0,\n        \"max\": 1.0,\n        \"num_unique_values\": 47,\n        \"samples\": [\n          0.583333,\n          0.272727,\n          0.1\n        ],\n        \"semantic_type\": \"\",\n        \"description\": \"\"\n      }\n    },\n    {\n      \"column\": \"TENURE\",\n      \"properties\": {\n        \"dtype\": \"number\",\n        \"std\": 1,\n        \"min\": 6,\n        \"max\": 12,\n        \"num_unique_values\": 7,\n        \"samples\": [\n          12,\n          8,\n          7\n        ],\n        \"semantic_type\": \"\",\n        \"description\": \"\"\n      }\n    }\n  ]\n}"
            }
          },
          "metadata": {},
          "execution_count": 6
        }
      ],
      "source": [
        "creditcard_df"
      ]
    },
    {
      "cell_type": "code",
      "execution_count": 8,
      "metadata": {
        "colab": {
          "base_uri": "https://localhost:8080/"
        },
        "id": "hMq3-KWOx0e1",
        "outputId": "58cf5ef4-f355-4602-b4ce-7b598630037a"
      },
      "outputs": [
        {
          "output_type": "stream",
          "name": "stdout",
          "text": [
            "<class 'pandas.core.frame.DataFrame'>\n",
            "RangeIndex: 8950 entries, 0 to 8949\n",
            "Data columns (total 18 columns):\n",
            " #   Column                            Non-Null Count  Dtype  \n",
            "---  ------                            --------------  -----  \n",
            " 0   CUST_ID                           8950 non-null   object \n",
            " 1   BALANCE                           8950 non-null   float64\n",
            " 2   BALANCE_FREQUENCY                 8950 non-null   float64\n",
            " 3   PURCHASES                         8950 non-null   float64\n",
            " 4   ONEOFF_PURCHASES                  8950 non-null   float64\n",
            " 5   INSTALLMENTS_PURCHASES            8950 non-null   float64\n",
            " 6   CASH_ADVANCE                      8950 non-null   float64\n",
            " 7   PURCHASES_FREQUENCY               8950 non-null   float64\n",
            " 8   ONEOFF_PURCHASES_FREQUENCY        8950 non-null   float64\n",
            " 9   PURCHASES_INSTALLMENTS_FREQUENCY  8950 non-null   float64\n",
            " 10  CASH_ADVANCE_FREQUENCY            8950 non-null   float64\n",
            " 11  CASH_ADVANCE_TRX                  8950 non-null   int64  \n",
            " 12  PURCHASES_TRX                     8950 non-null   int64  \n",
            " 13  CREDIT_LIMIT                      8949 non-null   float64\n",
            " 14  PAYMENTS                          8950 non-null   float64\n",
            " 15  MINIMUM_PAYMENTS                  8637 non-null   float64\n",
            " 16  PRC_FULL_PAYMENT                  8950 non-null   float64\n",
            " 17  TENURE                            8950 non-null   int64  \n",
            "dtypes: float64(14), int64(3), object(1)\n",
            "memory usage: 1.2+ MB\n"
          ]
        }
      ],
      "source": [
        "# Let's apply info and get additional insights on our dataframe\n",
        "# 18 features with 8950 points\n",
        "\n",
        "creditcard_df.info()"
      ]
    },
    {
      "cell_type": "markdown",
      "metadata": {
        "id": "_EIeIe9ekzL4"
      },
      "source": [
        "MINI CHALLENGE #1:\n",
        " - What is the average, minimum and maximum \"BALANCE\" amount?\n"
      ]
    },
    {
      "cell_type": "code",
      "execution_count": null,
      "metadata": {
        "id": "l0X8L43ekzL4"
      },
      "outputs": [],
      "source": []
    },
    {
      "cell_type": "code",
      "execution_count": null,
      "metadata": {
        "id": "s0E9xPLdx2Ok",
        "scrolled": false
      },
      "outputs": [],
      "source": [
        "# Let's apply describe() and get more statistical insights on our dataframe\n",
        "# Mean balance is $1564\n",
        "# Balance frequency is frequently updated on average ~0.9\n",
        "# Purchases average is $1000\n",
        "# one off purchase average is ~$600\n",
        "# Average purchases frequency is around 0.5\n",
        "# average ONEOFF_PURCHASES_FREQUENCY, PURCHASES_INSTALLMENTS_FREQUENCY, and CASH_ADVANCE_FREQUENCY are generally low\n",
        "# Average credit limit ~ 4500\n",
        "# Percent of full payment is 15%\n",
        "# Average tenure is 11 years"
      ]
    },
    {
      "cell_type": "markdown",
      "metadata": {
        "id": "_oEl_1lTkzL5"
      },
      "source": [
        "MINI CHALLENGE #2:\n",
        "- Obtain the features (row) of the customer who made the maximim \"ONEOFF_PURCHASES\"\n",
        "- Obtain the features of the customer who made the maximum cash advance transaction? how many cash advance transactions did that customer make? how often did he/she pay their bill?"
      ]
    },
    {
      "cell_type": "code",
      "execution_count": null,
      "metadata": {
        "id": "pGfQovAxkzL5"
      },
      "outputs": [],
      "source": []
    },
    {
      "cell_type": "markdown",
      "metadata": {
        "id": "LlszUhNNyrl_"
      },
      "source": [
        "# TASK #3: VISUALIZE AND EXPLORE DATASET"
      ]
    },
    {
      "cell_type": "code",
      "execution_count": null,
      "metadata": {
        "id": "ICj3NLbqqmve"
      },
      "outputs": [],
      "source": [
        "# Let's see if we have any missing data, luckily we don't have many!\n",
        "sns.heatmap(creditcard_df.isnull(), yticklabels = False, cbar = False, cmap=\"Blues\")\n"
      ]
    },
    {
      "cell_type": "code",
      "execution_count": null,
      "metadata": {
        "id": "70XopgWwMmHG"
      },
      "outputs": [],
      "source": [
        "creditcard_df.isnull().sum()"
      ]
    },
    {
      "cell_type": "code",
      "execution_count": null,
      "metadata": {
        "id": "wboxbIPwT7Wi"
      },
      "outputs": [],
      "source": [
        "# Fill up the missing elements with mean of the 'MINIMUM_PAYMENT'\n",
        "creditcard_df.loc[(creditcard_df['MINIMUM_PAYMENTS'].isnull() == True), 'MINIMUM_PAYMENTS'] = creditcard_df['MINIMUM_PAYMENTS'].mean()\n"
      ]
    },
    {
      "cell_type": "markdown",
      "metadata": {
        "id": "HgnJ7avAkzL5"
      },
      "source": [
        "MINI CHALLENGE #3:\n",
        " - Fill out missing elements in the \"CREDIT_LIMIT\" column\n",
        " - Double check and make sure that no missing elements are present"
      ]
    },
    {
      "cell_type": "code",
      "execution_count": null,
      "metadata": {
        "id": "ciOq-cYxMw8P"
      },
      "outputs": [],
      "source": []
    },
    {
      "cell_type": "code",
      "execution_count": null,
      "metadata": {
        "id": "H-c9kqOSUU1t"
      },
      "outputs": [],
      "source": []
    },
    {
      "cell_type": "code",
      "execution_count": null,
      "metadata": {
        "id": "zFIXGFrucdCl"
      },
      "outputs": [],
      "source": [
        "# Let's see if we have duplicated entries in the data\n",
        "creditcard_df.duplicated().sum()"
      ]
    },
    {
      "cell_type": "code",
      "metadata": {
        "id": "onSLJRBtcohW"
      },
      "source": [
        "MINI CHALLENGE #4:\n",
        "- Drop Customer ID column 'CUST_ID' and make sure that the column has been removed from the dataframe"
      ],
      "execution_count": null,
      "outputs": []
    },
    {
      "cell_type": "code",
      "execution_count": null,
      "metadata": {
        "id": "odjpf52AkzL9"
      },
      "outputs": [],
      "source": []
    },
    {
      "cell_type": "code",
      "execution_count": null,
      "metadata": {
        "id": "PSzpvJgWcxnu"
      },
      "outputs": [],
      "source": []
    },
    {
      "cell_type": "code",
      "execution_count": null,
      "metadata": {
        "id": "QIw-jGI9NOCg"
      },
      "outputs": [],
      "source": [
        "n = len(creditcard_df.columns)\n",
        "n"
      ]
    },
    {
      "cell_type": "code",
      "execution_count": null,
      "metadata": {
        "id": "fIOb3930ONKS"
      },
      "outputs": [],
      "source": [
        "creditcard_df.columns"
      ]
    },
    {
      "cell_type": "code",
      "execution_count": null,
      "metadata": {
        "id": "rFmjikf6ONgu"
      },
      "outputs": [],
      "source": [
        "# distplot combines the matplotlib.hist function with seaborn kdeplot()\n",
        "# KDE Plot represents the Kernel Density Estimate\n",
        "# KDE is used for visualizing the Probability Density of a continuous variable.\n",
        "# KDE demonstrates the probability density at different values in a continuous variable.\n",
        "\n",
        "# Mean of balance is $1500\n",
        "# 'Balance_Frequency' for most customers is updated frequently ~1\n",
        "# For 'PURCHASES_FREQUENCY', there are two distinct group of customers\n",
        "# For 'ONEOFF_PURCHASES_FREQUENCY' and 'PURCHASES_INSTALLMENT_FREQUENCY' most users don't do one off puchases or installment purchases frequently\n",
        "# Very small number of customers pay their balance in full 'PRC_FULL_PAYMENT'~0\n",
        "# Credit limit average is around $4500\n",
        "# Most customers are ~11 years tenure\n",
        "\n",
        "plt.figure(figsize=(10,50))\n",
        "for i in range(len(creditcard_df.columns)):\n",
        "  plt.subplot(17, 1, i+1)\n",
        "  sns.distplot(creditcard_df[creditcard_df.columns[i]], kde_kws={\"color\": \"b\", \"lw\": 3, \"label\": \"KDE\"}, hist_kws={\"color\": \"g\"})\n",
        "  plt.title(creditcard_df.columns[i])\n",
        "\n",
        "plt.tight_layout()"
      ]
    },
    {
      "cell_type": "markdown",
      "metadata": {
        "id": "qLRUQ-NekzL9"
      },
      "source": [
        "MINI CHALLENGE #5:\n",
        "- Obtain the correlation matrix between features"
      ]
    },
    {
      "cell_type": "code",
      "execution_count": null,
      "metadata": {
        "id": "c6UiAqTkKD85"
      },
      "outputs": [],
      "source": []
    },
    {
      "cell_type": "code",
      "execution_count": null,
      "metadata": {
        "id": "zBy4m89a08Sj"
      },
      "outputs": [],
      "source": []
    },
    {
      "cell_type": "markdown",
      "metadata": {
        "id": "QRSLmofOqJ2X"
      },
      "source": [
        "# TASK #4: UNDERSTAND THE THEORY AND INTUITON BEHIND K-MEANS"
      ]
    },
    {
      "cell_type": "markdown",
      "metadata": {
        "id": "2cvBzbO6kzL-"
      },
      "source": [
        "![image.png](attachment:image.png)"
      ]
    },
    {
      "cell_type": "markdown",
      "metadata": {
        "id": "filUxaGQkzL-"
      },
      "source": [
        "![image.png](attachment:image.png)"
      ]
    },
    {
      "cell_type": "markdown",
      "metadata": {
        "id": "_QkWX8TwkzL-"
      },
      "source": [
        "![image.png](attachment:image.png)"
      ]
    },
    {
      "cell_type": "markdown",
      "metadata": {
        "id": "ZqqFoeoBkzL-"
      },
      "source": [
        "MINI CHALLENGE #6:\n",
        "- Which of the following conditions could terminate the K-means clustering algorithm? (choose 2)\n",
        "    - K-means terminates after a fixed number of iterations is reached  \n",
        "    - K-means terminates when the number of clusters does not increase between iterations\n",
        "    - K-means terminates when the centroid locations do not change between iterations\n",
        "\n",
        "   \n"
      ]
    },
    {
      "cell_type": "code",
      "execution_count": null,
      "metadata": {
        "id": "D9KDyHQPkzL-"
      },
      "outputs": [],
      "source": []
    },
    {
      "cell_type": "markdown",
      "metadata": {
        "id": "eOKYdBbVkzL-"
      },
      "source": [
        "# TASK #5: LEARN HOW TO OBTAIN THE OPTIMAL NUMBER OF CLUSTERS (ELBOW METHOD)"
      ]
    },
    {
      "cell_type": "markdown",
      "metadata": {
        "id": "RMM6fm8AkzMO"
      },
      "source": [
        "![image.png](attachment:image.png)"
      ]
    },
    {
      "cell_type": "markdown",
      "metadata": {
        "id": "f-XOqRwLkzMO"
      },
      "source": [
        "![image.png](attachment:image.png)"
      ]
    },
    {
      "cell_type": "markdown",
      "metadata": {
        "id": "eAmAQzDPkzMO"
      },
      "source": [
        "![image.png](attachment:image.png)"
      ]
    },
    {
      "cell_type": "markdown",
      "metadata": {
        "id": "TM3oZlwokzMO"
      },
      "source": [
        "![image.png](attachment:image.png)"
      ]
    },
    {
      "cell_type": "markdown",
      "metadata": {
        "id": "9T6_8UEFkzMP"
      },
      "source": [
        "![image.png](attachment:image.png)"
      ]
    },
    {
      "cell_type": "markdown",
      "metadata": {
        "id": "Y0GmpAjG3GiH"
      },
      "source": [
        "# TASK #6: FIND THE OPTIMAL NUMBER OF CLUSTERS USING ELBOW METHOD"
      ]
    },
    {
      "cell_type": "markdown",
      "metadata": {
        "id": "6cJZDKkikWOn"
      },
      "source": [
        "- The elbow method is a heuristic method of interpretation and validation of consistency within cluster analysis designed to help find the appropriate number of clusters in a dataset.\n",
        "- If the line chart looks like an arm, then the \"elbow\" on the arm is the value of k that is the best.\n",
        "- Source:\n",
        "  - https://en.wikipedia.org/wiki/Elbow_method_(clustering)\n",
        "  - https://www.geeksforgeeks.org/elbow-method-for-optimal-value-of-k-in-kmeans/"
      ]
    },
    {
      "cell_type": "code",
      "execution_count": null,
      "metadata": {
        "id": "axr926Btjyux"
      },
      "outputs": [],
      "source": [
        "# Let's scale the data first\n",
        "scaler = StandardScaler()\n",
        "creditcard_df_scaled = scaler.fit_transform(creditcard_df)"
      ]
    },
    {
      "cell_type": "code",
      "execution_count": null,
      "metadata": {
        "id": "9CJeasg4kHyP"
      },
      "outputs": [],
      "source": [
        "creditcard_df_scaled.shape"
      ]
    },
    {
      "cell_type": "code",
      "execution_count": null,
      "metadata": {
        "id": "FK5ggiVPsJE9"
      },
      "outputs": [],
      "source": [
        "creditcard_df_scaled"
      ]
    },
    {
      "cell_type": "code",
      "execution_count": null,
      "metadata": {
        "id": "1_nb-D8H3cK-"
      },
      "outputs": [],
      "source": [
        "# Index(['BALANCE', 'BALANCE_FREQUENCY', 'PURCHASES', 'ONEOFF_PURCHASES',\n",
        "#       'INSTALLMENTS_PURCHASES', 'CASH_ADVANCE', 'PURCHASES_FREQUENCY',\n",
        "#       'ONEOFF_PURCHASES_FREQUENCY', 'PURCHASES_INSTALLMENTS_FREQUENCY',\n",
        "#       'CASH_ADVANCE_FREQUENCY', 'CASH_ADVANCE_TRX', 'PURCHASES_TRX',\n",
        "#       'CREDIT_LIMIT', 'PAYMENTS', 'MINIMUM_PAYMENTS', 'PRC_FULL_PAYMENT',\n",
        "#       'TENURE'], dtype='object')\n",
        "\n",
        "\n",
        "\n",
        "# From this we can observe that, 4th cluster seems to be forming the elbow of the curve.\n",
        "# However, the values does not reduce linearly until 8th cluster.\n",
        "# Let's choose the number of clusters to be 7 or 8."
      ]
    },
    {
      "cell_type": "markdown",
      "metadata": {
        "id": "3iDWSzakkzMQ"
      },
      "source": [
        "MINI CHALLENGE #7:\n",
        " - Let's assume that our data only consists of the first 7 columns of \"creditcard_df_scaled\", what is the optimal number of clusters would be in this case? modify the code and rerun the cells."
      ]
    },
    {
      "cell_type": "code",
      "execution_count": null,
      "metadata": {
        "id": "D--0f_MYkzMQ"
      },
      "outputs": [],
      "source": []
    },
    {
      "cell_type": "markdown",
      "metadata": {
        "id": "m_jo7mJ4C8R9"
      },
      "source": [
        "# TASK #7: APPLY K-MEANS METHOD"
      ]
    },
    {
      "cell_type": "code",
      "execution_count": null,
      "metadata": {
        "id": "qwzY8rj0uV-a"
      },
      "outputs": [],
      "source": [
        "kmeans = KMeans(7)\n",
        "kmeans.fit(creditcard_df_scaled)\n",
        "labels = kmeans.labels_"
      ]
    },
    {
      "cell_type": "code",
      "execution_count": null,
      "metadata": {
        "id": "dShNNvg09zH3"
      },
      "outputs": [],
      "source": [
        "kmeans.cluster_centers_.shape"
      ]
    },
    {
      "cell_type": "code",
      "execution_count": null,
      "metadata": {
        "id": "VEiPOUJv9iFK"
      },
      "outputs": [],
      "source": [
        "cluster_centers = pd.DataFrame(data = kmeans.cluster_centers_, columns = [creditcard_df.columns])\n",
        "cluster_centers"
      ]
    },
    {
      "cell_type": "code",
      "execution_count": null,
      "metadata": {
        "id": "9ogiZbsGBBl8"
      },
      "outputs": [],
      "source": [
        "# In order to understand what these numbers mean, let's perform inverse transformation\n",
        "cluster_centers = scaler.inverse_transform(cluster_centers)\n",
        "cluster_centers = pd.DataFrame(data = cluster_centers, columns = [creditcard_df.columns])\n",
        "cluster_centers\n",
        "\n",
        "# First Customers cluster (Transactors): Those are customers who pay least amount of intrerest charges and careful with their money, Cluster with lowest balance ($104) and cash advance ($303), Percentage of full payment = 23%\n",
        "# Second customers cluster (revolvers) who use credit card as a loan (most lucrative sector): highest balance ($5000) and cash advance (~$5000), low purchase frequency, high cash advance frequency (0.5), high cash advance transactions (16) and low percentage of full payment (3%)\n",
        "# Third customer cluster (VIP/Prime): high credit limit $16K and highest percentage of full payment, target for increase credit limit and increase spending habits\n",
        "# Fourth customer cluster (low tenure): these are customers with low tenure (7 years), low balance\n"
      ]
    },
    {
      "cell_type": "code",
      "execution_count": null,
      "metadata": {
        "id": "kCuHRqBIusm7"
      },
      "outputs": [],
      "source": [
        "labels.shape # Labels associated to each data point"
      ]
    },
    {
      "cell_type": "code",
      "execution_count": null,
      "metadata": {
        "id": "Ywcls4cvu2lh"
      },
      "outputs": [],
      "source": [
        "labels.max()"
      ]
    },
    {
      "cell_type": "code",
      "execution_count": null,
      "metadata": {
        "id": "NPQIMB7Fu9f3"
      },
      "outputs": [],
      "source": [
        "labels.min()"
      ]
    },
    {
      "cell_type": "code",
      "execution_count": null,
      "metadata": {
        "id": "kgLSvv-6vHSs"
      },
      "outputs": [],
      "source": [
        "y_kmeans = kmeans.fit_predict(creditcard_df_scaled)\n",
        "y_kmeans\n"
      ]
    },
    {
      "cell_type": "code",
      "execution_count": null,
      "metadata": {
        "id": "OfMaZqUOqdJB"
      },
      "outputs": [],
      "source": [
        "# concatenate the clusters labels to our original dataframe\n",
        "creditcard_df_cluster = pd.concat([creditcard_df, pd.DataFrame({'cluster':labels})], axis = 1)\n",
        "creditcard_df_cluster.head()"
      ]
    },
    {
      "cell_type": "code",
      "execution_count": null,
      "metadata": {
        "id": "TYEhR6rvqwda"
      },
      "outputs": [],
      "source": [
        "# Plot the histogram of various clusters\n",
        "for i in creditcard_df.columns:\n",
        "  plt.figure(figsize = (35, 5))\n",
        "  for j in range(7):\n",
        "    plt.subplot(1,7,j+1)\n",
        "    cluster = creditcard_df_cluster[creditcard_df_cluster['cluster'] == j]\n",
        "    cluster[i].hist(bins = 20)\n",
        "    plt.title('{}    \\nCluster {} '.format(i,j))\n",
        "\n",
        "  plt.show()\n",
        "\n"
      ]
    },
    {
      "cell_type": "markdown",
      "metadata": {
        "id": "TQ43KUTmkzMS"
      },
      "source": [
        "MINI CHALLENGE #8:\n",
        " - Repeat the same procedure with 8 clusters instead of 7\n"
      ]
    },
    {
      "cell_type": "markdown",
      "metadata": {
        "id": "UVTd7FYLNCAE"
      },
      "source": [
        "# TASK 8: APPLY PRINCIPAL COMPONENT ANALYSIS AND VISUALIZE THE RESULTS"
      ]
    },
    {
      "cell_type": "markdown",
      "metadata": {
        "id": "KWVt72KJkzMS"
      },
      "source": [
        "![image.png](attachment:image.png)"
      ]
    },
    {
      "cell_type": "code",
      "execution_count": null,
      "metadata": {
        "id": "RgFq3h993cIz"
      },
      "outputs": [],
      "source": [
        "# Obtain the principal components\n"
      ]
    },
    {
      "cell_type": "code",
      "execution_count": null,
      "metadata": {
        "id": "ad3UQtPU0eHK"
      },
      "outputs": [],
      "source": [
        "# Create a dataframe with the two components\n",
        "pca_df = pd.DataFrame(data = principal_comp, columns =['pca1','pca2'])\n",
        "pca_df.head()"
      ]
    },
    {
      "cell_type": "code",
      "execution_count": null,
      "metadata": {
        "id": "q7gsGkEZvkYd"
      },
      "outputs": [],
      "source": [
        "# Concatenate the clusters labels to the dataframe\n",
        "pca_df = pd.concat([pca_df,pd.DataFrame({'cluster':labels})], axis = 1)\n",
        "pca_df.head()"
      ]
    },
    {
      "cell_type": "code",
      "execution_count": null,
      "metadata": {
        "id": "4KYt5SUrvneq"
      },
      "outputs": [],
      "source": [
        "plt.figure(figsize=(10,10))\n",
        "ax = sns.scatterplot(x=\"pca1\", y=\"pca2\", hue = \"cluster\", data = pca_df, palette =['red','green','blue','pink','yellow','gray','purple', 'black'])\n",
        "plt.show()"
      ]
    },
    {
      "cell_type": "markdown",
      "metadata": {
        "id": "bgYYIwETkzMS"
      },
      "source": [
        "MINI CHALLENGE #9:\n",
        " - Repeat task #7 and #8 with number of clusters = 7 and 4"
      ]
    },
    {
      "cell_type": "markdown",
      "metadata": {
        "id": "27OgYEJu9EFV"
      },
      "source": [
        "# EXCELLENT JOB! YOU SHOULD BE PROUD OF YOUR NEWLY ACQUIRED SKILLS"
      ]
    },
    {
      "cell_type": "markdown",
      "metadata": {
        "id": "eB3Sazv3kzMT"
      },
      "source": [
        "MINI CHALLENGE SOLUTIONS"
      ]
    },
    {
      "cell_type": "markdown",
      "metadata": {
        "id": "jZy2b9gWkzMT"
      },
      "source": [
        "MINI CHALLENGE #1"
      ]
    },
    {
      "cell_type": "code",
      "execution_count": null,
      "metadata": {
        "id": "PqRmWh-EkzMT"
      },
      "outputs": [],
      "source": [
        "# Average, minimum and maximum balance amounts\n",
        "print('The average, minimum and maximum balance amount are:', creditcard_df['BALANCE'].mean(), creditcard_df['BALANCE'].min(), creditcard_df['BALANCE'].max())"
      ]
    },
    {
      "cell_type": "markdown",
      "metadata": {
        "id": "6WbamUdDkzMT"
      },
      "source": [
        "MINI CHALLENGE #2"
      ]
    },
    {
      "cell_type": "code",
      "execution_count": null,
      "metadata": {
        "id": "zdwu1hxbkzMT"
      },
      "outputs": [],
      "source": [
        "# Let's see who made one off purchase of $40761!\n",
        "creditcard_df[creditcard_df['ONEOFF_PURCHASES'] == 40761.25]"
      ]
    },
    {
      "cell_type": "code",
      "execution_count": null,
      "metadata": {
        "id": "tjr0vVNGkzMT"
      },
      "outputs": [],
      "source": [
        "creditcard_df['CASH_ADVANCE'].max()"
      ]
    },
    {
      "cell_type": "code",
      "execution_count": null,
      "metadata": {
        "id": "6X71_FVBkzMT"
      },
      "outputs": [],
      "source": [
        "# Let's see who made cash advance of $47137!\n",
        "# This customer made 123 cash advance transactions!!\n",
        "# Never paid credit card in full\n",
        "\n",
        "creditcard_df[creditcard_df['CASH_ADVANCE'] == 47137.211760000006]\n"
      ]
    },
    {
      "cell_type": "markdown",
      "metadata": {
        "id": "VkPN1Q4rkzMU"
      },
      "source": [
        "MINI CHALLENGE #3"
      ]
    },
    {
      "cell_type": "code",
      "execution_count": null,
      "metadata": {
        "id": "sIA8izAEkzMU"
      },
      "outputs": [],
      "source": [
        "# Fill up the missing elements with mean of the 'CREDIT_LIMIT'\n",
        "creditcard_df.loc[(creditcard_df['CREDIT_LIMIT'].isnull() == True), 'CREDIT_LIMIT'] = creditcard_df['CREDIT_LIMIT'].mean()\n",
        "sns.heatmap(creditcard_df.isnull(), yticklabels = False, cbar = False, cmap=\"Blues\")"
      ]
    },
    {
      "cell_type": "markdown",
      "metadata": {
        "id": "iKI1QY8fkzMU"
      },
      "source": [
        "MINI CHALLENGE #4"
      ]
    },
    {
      "cell_type": "code",
      "execution_count": null,
      "metadata": {
        "id": "wcWyvII9kzMU"
      },
      "outputs": [],
      "source": [
        "# Let's drop Customer ID since it has no meaning here\n",
        "creditcard_df.drop(\"CUST_ID\", axis = 1, inplace= True)\n",
        "creditcard_df.head()"
      ]
    },
    {
      "cell_type": "markdown",
      "metadata": {
        "id": "JBvLM0zJkzMU"
      },
      "source": [
        "MINI CHALLENGE #5"
      ]
    },
    {
      "cell_type": "code",
      "execution_count": null,
      "metadata": {
        "id": "2I-zMTDUkzMU"
      },
      "outputs": [],
      "source": [
        "correlations = creditcard_df.corr()\n",
        "f, ax = plt.subplots(figsize = (20, 20))\n",
        "sns.heatmap(correlations, annot = True)\n",
        "\n",
        "# 'PURCHASES' have high correlation between one-off purchases, 'installment purchases, purchase transactions, credit limit and payments.\n",
        "# Strong Positive Correlation between 'PURCHASES_FREQUENCY' and 'PURCHASES_INSTALLMENT_FREQUENCY'"
      ]
    },
    {
      "cell_type": "markdown",
      "metadata": {
        "id": "SSZpfJyfkzMU"
      },
      "source": [
        "MINI CHALLENGE #6:\n",
        "- Which of the following conditions could terminate the K-means clustering algorithm? (choose 2)\n",
        "    - K-means terminates after a fixed number of iterations is reached  (True)\n",
        "    - K-means terminates when the number of clusters does not increase between iterations (False)\n",
        "    - K-means terminates when the centroid locations do not change between iterations (True)\n"
      ]
    },
    {
      "cell_type": "markdown",
      "metadata": {
        "id": "e5IJ_yT1kzMU"
      },
      "source": [
        "MINI CHALLENGE #7:"
      ]
    },
    {
      "cell_type": "code",
      "execution_count": null,
      "metadata": {
        "id": "OBdZjq4skzMU"
      },
      "outputs": [],
      "source": [
        "# code modification\n",
        "kmeans.fit(creditcard_df_scaled[:,:7])\n",
        "# optimal number of clusters would be = 5"
      ]
    },
    {
      "cell_type": "markdown",
      "metadata": {
        "id": "Xigs5ziJkzMU"
      },
      "source": [
        "MINI CHALLENGE #8 & #9:\n",
        " - simply change the values requested in the question and rerun the cells"
      ]
    }
  ],
  "metadata": {
    "colab": {
      "name": "Marketing Department Solution",
      "provenance": []
    },
    "kernelspec": {
      "display_name": "Python 3",
      "language": "python",
      "name": "python3"
    },
    "language_info": {
      "codemirror_mode": {
        "name": "ipython",
        "version": 3
      },
      "file_extension": ".py",
      "mimetype": "text/x-python",
      "name": "python",
      "nbconvert_exporter": "python",
      "pygments_lexer": "ipython3",
      "version": "3.7.6"
    }
  },
  "nbformat": 4,
  "nbformat_minor": 0
}